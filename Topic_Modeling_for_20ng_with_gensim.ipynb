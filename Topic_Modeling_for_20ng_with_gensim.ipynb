{
  "nbformat": 4,
  "nbformat_minor": 0,
  "metadata": {
    "colab": {
      "provenance": [],
      "include_colab_link": true
    },
    "kernelspec": {
      "name": "python3",
      "display_name": "Python 3"
    },
    "language_info": {
      "name": "python"
    }
  },
  "cells": [
    {
      "cell_type": "markdown",
      "metadata": {
        "id": "view-in-github",
        "colab_type": "text"
      },
      "source": [
        "<a href=\"https://colab.research.google.com/github/popelucha/NLP-notebooks/blob/main/Topic_Modeling_for_20ng_with_gensim.ipynb\" target=\"_parent\"><img src=\"https://colab.research.google.com/assets/colab-badge.svg\" alt=\"Open In Colab\"/></a>"
      ]
    },
    {
      "cell_type": "markdown",
      "source": [
        "# Topic Modeling with `gensim`"
      ],
      "metadata": {
        "id": "A87--djCFZCr"
      }
    },
    {
      "cell_type": "code",
      "source": [
        "import re\n",
        "import tarfile\n",
        "import itertools\n",
        "import gensim\n",
        "import pprint\n",
        "import logging\n",
        "from gensim.parsing.preprocessing import STOPWORDS\n",
        "from gensim.corpora import Dictionary, MmCorpus"
      ],
      "metadata": {
        "id": "bvU4kUXlEYMN"
      },
      "execution_count": null,
      "outputs": []
    },
    {
      "cell_type": "markdown",
      "source": [
        "## Get the data\n",
        "Download text from 20 Newsgroups. We convert the texts to Matrix Market Corpus (see https://radimrehurek.com/gensim/corpora/mmcorpus.html for more details). The texts are categorized into 20 groups by topic."
      ],
      "metadata": {
        "id": "Fnq-K0XBGTmp"
      }
    },
    {
      "cell_type": "code",
      "source": [
        "!wget http://qwone.com/%7Ejason/20Newsgroups/20news-bydate.tar.gz -P data"
      ],
      "metadata": {
        "id": "v-AwIaI3es76",
        "outputId": "e2129295-64db-4d94-ab2c-e3849351e476",
        "colab": {
          "base_uri": "https://localhost:8080/"
        }
      },
      "execution_count": null,
      "outputs": [
        {
          "output_type": "stream",
          "name": "stdout",
          "text": [
            "--2023-10-30 16:43:47--  http://qwone.com/%7Ejason/20Newsgroups/20news-bydate.tar.gz\n",
            "Resolving qwone.com (qwone.com)... 173.48.205.131\n",
            "Connecting to qwone.com (qwone.com)|173.48.205.131|:80... connected.\n",
            "HTTP request sent, awaiting response... 200 OK\n",
            "Length: 14464277 (14M) [application/x-gzip]\n",
            "Saving to: ‘data/20news-bydate.tar.gz’\n",
            "\n",
            "20news-bydate.tar.g 100%[===================>]  13.79M  9.80MB/s    in 1.4s    \n",
            "\n",
            "2023-10-30 16:43:48 (9.80 MB/s) - ‘data/20news-bydate.tar.gz’ saved [14464277/14464277]\n",
            "\n"
          ]
        }
      ]
    },
    {
      "cell_type": "markdown",
      "source": [
        "## Preprocessing\n",
        "\n",
        "We need to extract the email body from the whole email.\n",
        "There are more options how to do that."
      ],
      "metadata": {
        "id": "Phv6pXtEbXFl"
      }
    },
    {
      "cell_type": "code",
      "source": [
        "def process_message(message, skip_top=1, skip_bottom=1,\n",
        "                    re_regex = r'^\\s*[a-zA-Z]*>\\s.*', ignore_regex=r'^.*[@0-9].* (wrote|writes).*:'):\n",
        "    \"\"\"\n",
        "    Preprocess a single 20newsgroups message, returning the result as\n",
        "    a unicode string.\n",
        "\n",
        "    \"\"\"\n",
        "    message = gensim.utils.to_unicode(message, 'latin1').strip()\n",
        "    blocks = message.split(u'\\n\\n')\n",
        "    # skip email headers (first block) and footer (last block)\n",
        "    # also skip lines starting with '>'\n",
        "    reduced_blocks = []\n",
        "    for block in blocks[skip_top:-skip_bottom]:\n",
        "      lines = block.split('\\n')\n",
        "      if len([l for l in lines if re.match(re_regex, l)])==0:\n",
        "        reduced_blocks.append('\\n'.join([l for l in lines if not re.match(ignore_regex, l)]))\n",
        "    content = u'\\n\\n'.join(reduced_blocks)\n",
        "    return content\n",
        "\n",
        "def iter_20newsgroups(fname, log_every=None):\n",
        "    \"\"\"\n",
        "    Yield plain text of each 20 newsgroups message, as a unicode string.\n",
        "\n",
        "    The messages are read from raw tar.gz file `fname` on disk (e.g. `./data/20news-bydate.tar.gz`)\n",
        "\n",
        "    \"\"\"\n",
        "    extracted = 0\n",
        "    with tarfile.open(fname, 'r:gz') as tf:\n",
        "        for file_number, file_info in enumerate(tf):\n",
        "            if file_info.isfile():\n",
        "                if log_every and extracted % log_every == 0:\n",
        "                    logging.info(\"extracting 20newsgroups file #%i: %s\" % (extracted, file_info.name))\n",
        "                content = tf.extractfile(file_info).read()\n",
        "                yield (file_number, file_info, process_message(content))\n",
        "                extracted += 1"
      ],
      "metadata": {
        "id": "yEBl8_W4gK0A"
      },
      "execution_count": null,
      "outputs": []
    },
    {
      "cell_type": "code",
      "source": [
        "EMAIL_REGEX = re.compile(r\"[a-zA-Z0-9\\.\\+_-]+@[a-zA-Z0-9\\._-]+\\.[a-z]*\")\n",
        "FILTER_REGEX = re.compile(r\"[^a-zA-Z '#]\")\n",
        "TOKEN_MAPPINGS = [(EMAIL_REGEX, \" \"), (FILTER_REGEX, ' ')]\n",
        "\n",
        "def load_doc(filename):\n",
        "    group, doc_id = filename.split('/')[-2:]\n",
        "    with open(filename, errors='ignore') as f:\n",
        "        doc = f.readlines()\n",
        "    return {'group': group,\n",
        "            'doc': doc,\n",
        "            'tokens': tokenize(doc),\n",
        "            'id': doc_id}\n",
        "\n",
        "\n",
        "def load_doc(file_number, file_info, text):\n",
        "    # tokenize each message; simply lowercase & match alphabetic chars, for now\n",
        "    for regexp, replacement in TOKEN_MAPPINGS:\n",
        "      text = regexp.sub(replacement, text)\n",
        "    words = gensim.utils.tokenize(text, lower=True)\n",
        "    tokenized = list([w for w in words if w not in STOPWORDS and len(w)>2])\n",
        "    #print(file_number, file_info.name, text)\n",
        "    group, doc_id = file_info.name.split('/')[-2:]\n",
        "    return {'group': group,\n",
        "        'doc': text,\n",
        "        'tokens': tokenized,\n",
        "        'id': doc_id}\n",
        "\n",
        "\n",
        "def get_docs(filename):\n",
        "  docs = []\n",
        "  for file_number, file_info, text in iter_20newsgroups(filename):\n",
        "    docs.append(load_doc(file_number, file_info, text))\n",
        "\n",
        "  return docs\n",
        "\n",
        "docs = get_docs('./data/20news-bydate.tar.gz')\n",
        "\n",
        "# print the first two tokenized messages\n",
        "#print(list(itertools.islice(tokenized_corpus, 2)))"
      ],
      "metadata": {
        "id": "P0NQmEaVljjq"
      },
      "execution_count": null,
      "outputs": []
    },
    {
      "cell_type": "code",
      "source": [
        "def prep_corpus(docs, additional_stopwords=set(), no_below=5, no_above=0.5):\n",
        "  print('Building dictionary...')\n",
        "  dictionary = Dictionary([d['tokens'] for d in docs])\n",
        "# you can play with this\n",
        "#  dictionary.compactify()\n",
        "#  dictionary.filter_extremes(no_below=no_below, no_above=no_above, keep_n=None)\n",
        "  dictionary.compactify()\n",
        "\n",
        "  print('Building corpus...')\n",
        "  docs_ = [d['tokens'] for d in docs]\n",
        "  corpus = [dictionary.doc2bow(doc) for doc in docs_]\n",
        "  return dictionary, corpus\n",
        "\n",
        "dictionary, corpus = prep_corpus(docs)\n",
        "\n",
        "MmCorpus.serialize('newsgroups.mm', corpus)\n",
        "\n",
        "dictionary.save('newsgroups.dict')"
      ],
      "metadata": {
        "id": "1KFD0Jrlmn7a",
        "outputId": "6dcc3748-4c61-44e9-976c-b0f41062f333",
        "colab": {
          "base_uri": "https://localhost:8080/"
        }
      },
      "execution_count": null,
      "outputs": [
        {
          "output_type": "stream",
          "name": "stdout",
          "text": [
            "Building dictionary...\n",
            "Building corpus...\n"
          ]
        }
      ]
    },
    {
      "cell_type": "markdown",
      "source": [
        "## Check the corpus\n",
        "Get familiar with MM Corpus and its features."
      ],
      "metadata": {
        "id": "uNvDcn7ybzNY"
      }
    },
    {
      "cell_type": "code",
      "source": [
        "len(corpus)\n",
        "#corpus[3]"
      ],
      "metadata": {
        "id": "KXGBfQXauMH5",
        "outputId": "c5d00769-8f2b-4bcf-cedb-7f11cd8754ad",
        "colab": {
          "base_uri": "https://localhost:8080/"
        }
      },
      "execution_count": null,
      "outputs": [
        {
          "output_type": "execute_result",
          "data": {
            "text/plain": [
              "18846"
            ]
          },
          "metadata": {},
          "execution_count": 6
        }
      ]
    },
    {
      "cell_type": "code",
      "source": [
        "dictionary[1]"
      ],
      "metadata": {
        "id": "QFSvaWTbvKn_",
        "outputId": "0cf3d84d-ebc3-47de-eb79-36dca7b84db3",
        "colab": {
          "base_uri": "https://localhost:8080/",
          "height": 35
        }
      },
      "execution_count": null,
      "outputs": [
        {
          "output_type": "execute_result",
          "data": {
            "text/plain": [
              "'allowing'"
            ],
            "application/vnd.google.colaboratory.intrinsic+json": {
              "type": "string"
            }
          },
          "metadata": {},
          "execution_count": 7
        }
      ]
    },
    {
      "cell_type": "code",
      "execution_count": null,
      "metadata": {
        "id": "KXzXpxGf7ULr"
      },
      "outputs": [],
      "source": [
        "\n",
        "#logging.basicConfig(format='%(asctime)s : %(levelname)s : %(message)s', level=logging.INFO)\n",
        "\n",
        "# load id->word mapping (the dictionary), one of the results of step 2 above\n",
        "id2word = gensim.corpora.Dictionary.load('newsgroups.dict')\n",
        "\n",
        "# load corpus iterator\n",
        "mm = gensim.corpora.MmCorpus('newsgroups.mm')"
      ]
    },
    {
      "cell_type": "markdown",
      "source": [
        "## Corpus Parameters"
      ],
      "metadata": {
        "id": "kA-yYllwICo-"
      }
    },
    {
      "cell_type": "code",
      "source": [
        "len(mm) # num of documents"
      ],
      "metadata": {
        "id": "OEzeR4bnHAk7",
        "outputId": "f6f2278a-6f37-4a24-8e52-74f4199073b4",
        "colab": {
          "base_uri": "https://localhost:8080/"
        }
      },
      "execution_count": null,
      "outputs": [
        {
          "output_type": "execute_result",
          "data": {
            "text/plain": [
              "18846"
            ]
          },
          "metadata": {},
          "execution_count": 9
        }
      ]
    },
    {
      "cell_type": "code",
      "source": [
        "len(id2word) # vocabulary size"
      ],
      "metadata": {
        "id": "uLyV7NnuHK9P",
        "outputId": "abf1e5aa-b1d3-41fd-c272-77036c215d1b",
        "colab": {
          "base_uri": "https://localhost:8080/"
        }
      },
      "execution_count": null,
      "outputs": [
        {
          "output_type": "execute_result",
          "data": {
            "text/plain": [
              "74908"
            ]
          },
          "metadata": {},
          "execution_count": 10
        }
      ]
    },
    {
      "cell_type": "code",
      "source": [
        "id2word[113] # example mapping between word id and words"
      ],
      "metadata": {
        "id": "U77CVjH-HF0a",
        "outputId": "95f355e4-d01c-4d05-b14c-4d4247e49bbf",
        "colab": {
          "base_uri": "https://localhost:8080/",
          "height": 35
        }
      },
      "execution_count": null,
      "outputs": [
        {
          "output_type": "execute_result",
          "data": {
            "text/plain": [
              "'moslems'"
            ],
            "application/vnd.google.colaboratory.intrinsic+json": {
              "type": "string"
            }
          },
          "metadata": {},
          "execution_count": 11
        }
      ]
    },
    {
      "cell_type": "code",
      "source": [
        "[(i, len(mm[i])) for i in range(0,20)] # document lengths for n first documents"
      ],
      "metadata": {
        "id": "IyWB629kHaop",
        "outputId": "5cc5cff9-18e6-485e-ed89-2bbd3f5ffa4d",
        "colab": {
          "base_uri": "https://localhost:8080/"
        }
      },
      "execution_count": null,
      "outputs": [
        {
          "output_type": "execute_result",
          "data": {
            "text/plain": [
              "[(0, 71),\n",
              " (1, 16),\n",
              " (2, 65),\n",
              " (3, 92),\n",
              " (4, 54),\n",
              " (5, 82),\n",
              " (6, 77),\n",
              " (7, 163),\n",
              " (8, 33),\n",
              " (9, 29),\n",
              " (10, 53),\n",
              " (11, 239),\n",
              " (12, 208),\n",
              " (13, 206),\n",
              " (14, 74),\n",
              " (15, 78),\n",
              " (16, 12),\n",
              " (17, 103),\n",
              " (18, 22),\n",
              " (19, 2)]"
            ]
          },
          "metadata": {},
          "execution_count": 12
        }
      ]
    },
    {
      "cell_type": "code",
      "source": [
        "mm[19] # example document with TF-IDF scores"
      ],
      "metadata": {
        "id": "9FCrOVlzHlzd",
        "outputId": "044ecbfc-1308-4b45-e461-14ad13e58c3b",
        "colab": {
          "base_uri": "https://localhost:8080/"
        }
      },
      "execution_count": null,
      "outputs": [
        {
          "output_type": "execute_result",
          "data": {
            "text/plain": [
              "[(1223, 1.0), (1224, 1.0)]"
            ]
          },
          "metadata": {},
          "execution_count": 13
        }
      ]
    },
    {
      "cell_type": "code",
      "source": [
        "mm[0][:10]"
      ],
      "metadata": {
        "id": "rQULIYLPQrMm",
        "outputId": "6c401de4-0266-4f4d-8812-af397c91afc7",
        "colab": {
          "base_uri": "https://localhost:8080/"
        }
      },
      "execution_count": null,
      "outputs": [
        {
          "output_type": "execute_result",
          "data": {
            "text/plain": [
              "[(0, 1.0),\n",
              " (1, 1.0),\n",
              " (2, 1.0),\n",
              " (3, 1.0),\n",
              " (4, 1.0),\n",
              " (5, 1.0),\n",
              " (6, 2.0),\n",
              " (7, 1.0),\n",
              " (8, 1.0),\n",
              " (9, 1.0)]"
            ]
          },
          "metadata": {},
          "execution_count": 14
        }
      ]
    },
    {
      "cell_type": "code",
      "source": [
        "[id2word[t[0]] for t in mm[19]]"
      ],
      "metadata": {
        "id": "rZlsTBuUG3Ca",
        "outputId": "2f856a01-859f-4b18-999d-ea299f41efb0",
        "colab": {
          "base_uri": "https://localhost:8080/"
        }
      },
      "execution_count": null,
      "outputs": [
        {
          "output_type": "execute_result",
          "data": {
            "text/plain": [
              "['hear', 'speak']"
            ]
          },
          "metadata": {},
          "execution_count": 15
        }
      ]
    },
    {
      "cell_type": "code",
      "source": [
        "[id2word[t[0]] for t in mm[0][:10]]"
      ],
      "metadata": {
        "id": "rY0KiTSVQyBi",
        "outputId": "ffb5b6b3-0ce3-4086-9d8a-358a3f0bab34",
        "colab": {
          "base_uri": "https://localhost:8080/"
        }
      },
      "execution_count": null,
      "outputs": [
        {
          "output_type": "execute_result",
          "data": {
            "text/plain": [
              "['agree',\n",
              " 'allowing',\n",
              " 'atheist',\n",
              " 'bad',\n",
              " 'baggage',\n",
              " 'beaten',\n",
              " 'belief',\n",
              " 'believe',\n",
              " 'believed',\n",
              " 'believing']"
            ]
          },
          "metadata": {},
          "execution_count": 16
        }
      ]
    },
    {
      "cell_type": "code",
      "source": [
        "docs[0]['group']"
      ],
      "metadata": {
        "colab": {
          "base_uri": "https://localhost:8080/",
          "height": 35
        },
        "id": "eqgo91syeeaM",
        "outputId": "839a9cbc-af44-4214-ef38-87eb3221ba2c"
      },
      "execution_count": null,
      "outputs": [
        {
          "output_type": "execute_result",
          "data": {
            "text/plain": [
              "'alt.atheism'"
            ],
            "application/vnd.google.colaboratory.intrinsic+json": {
              "type": "string"
            }
          },
          "metadata": {},
          "execution_count": 24
        }
      ]
    },
    {
      "cell_type": "code",
      "source": [
        "docs[19]"
      ],
      "metadata": {
        "id": "GlDz6XcoeoEL",
        "outputId": "448d72cf-112f-4bb5-a3d3-9800bc49c974",
        "colab": {
          "base_uri": "https://localhost:8080/"
        }
      },
      "execution_count": null,
      "outputs": [
        {
          "output_type": "execute_result",
          "data": {
            "text/plain": [
              "{'group': 'alt.atheism',\n",
              " 'doc': \"      Could you speak up  I can't hear you      \",\n",
              " 'tokens': ['speak', 'hear'],\n",
              " 'id': '53321'}"
            ]
          },
          "metadata": {},
          "execution_count": 27
        }
      ]
    },
    {
      "cell_type": "markdown",
      "source": [
        "## LSA Topics"
      ],
      "metadata": {
        "id": "1beYsHF2b8PV"
      }
    },
    {
      "cell_type": "code",
      "source": [
        "# extract 20 LSA topics; use the default one-pass algorithm\n",
        "lsa = gensim.models.lsimodel.LsiModel(corpus=mm, id2word=id2word, num_topics=20)\n",
        "pprint.pprint(lsa.show_topics())"
      ],
      "metadata": {
        "id": "7SspSpnXG0bA",
        "outputId": "a06ce4b9-85cc-4e74-dd3c-e9b574b0d335",
        "colab": {
          "base_uri": "https://localhost:8080/"
        }
      },
      "execution_count": null,
      "outputs": [
        {
          "output_type": "stream",
          "name": "stdout",
          "text": [
            "[(0,\n",
            "  '0.305*\"jpeg\" + 0.259*\"file\" + 0.237*\"dos\" + 0.229*\"image\" + 0.161*\"use\" + '\n",
            "  '0.157*\"available\" + 0.136*\"ftp\" + 0.134*\"version\" + 0.133*\"windows\" + '\n",
            "  '0.132*\"graphics\"'),\n",
            " (1,\n",
            "  '0.788*\"dos\" + 0.277*\"windows\" + -0.190*\"jpeg\" + 0.149*\"microsoft\" + '\n",
            "  '-0.112*\"file\" + 0.111*\"tcp\" + -0.109*\"image\" + 0.088*\"mouse\" + -0.080*\"gif\" '\n",
            "  '+ 0.077*\"amiga\"'),\n",
            " (2,\n",
            "  '-0.394*\"jpeg\" + 0.233*\"people\" + 0.200*\"said\" + -0.192*\"image\" + '\n",
            "  '0.187*\"know\" + 0.176*\"think\" + -0.160*\"gif\" + 0.152*\"god\" + '\n",
            "  '0.136*\"president\" + 0.122*\"going\"'),\n",
            " (3,\n",
            "  '0.439*\"jpeg\" + 0.191*\"dos\" + -0.185*\"pub\" + -0.177*\"edu\" + 0.167*\"gif\" + '\n",
            "  '-0.156*\"data\" + -0.150*\"available\" + -0.150*\"ftp\" + 0.141*\"people\" + '\n",
            "  '0.134*\"said\"'),\n",
            " (4,\n",
            "  '-0.419*\"god\" + -0.408*\"jehovah\" + -0.322*\"lord\" + -0.307*\"elohim\" + '\n",
            "  '-0.189*\"christ\" + -0.177*\"jesus\" + 0.159*\"stephanopoulos\" + '\n",
            "  '0.154*\"president\" + -0.153*\"father\" + -0.134*\"mcconkie\"'),\n",
            " (5,\n",
            "  '-0.953*\"max\" + -0.155*\"giz\" + -0.116*\"bhj\" + -0.091*\"rlk\" + -0.077*\"fyn\" + '\n",
            "  '-0.053*\"fql\" + -0.053*\"qax\" + -0.048*\"bxn\" + -0.046*\"biz\" + -0.043*\"vmk\"'),\n",
            " (6,\n",
            "  '-0.681*\"file\" + -0.254*\"gun\" + 0.179*\"image\" + -0.137*\"control\" + '\n",
            "  '-0.136*\"congress\" + 0.124*\"graphics\" + -0.124*\"firearms\" + -0.111*\"states\" '\n",
            "  '+ 0.098*\"data\" + -0.097*\"united\"'),\n",
            " (7,\n",
            "  '-0.389*\"stephanopoulos\" + -0.288*\"president\" + -0.189*\"file\" + '\n",
            "  '-0.179*\"graphics\" + 0.173*\"use\" + -0.165*\"think\" + -0.149*\"pub\" + '\n",
            "  '-0.131*\"myers\" + -0.123*\"know\" + -0.120*\"going\"'),\n",
            " (8,\n",
            "  '0.168*\"use\" + -0.161*\"hockey\" + -0.157*\"new\" + 0.155*\"window\" + '\n",
            "  '-0.153*\"space\" + -0.142*\"graphics\" + 0.134*\"widget\" + 0.126*\"subject\" + '\n",
            "  '0.125*\"openwindows\" + -0.120*\"league\"'),\n",
            " (9,\n",
            "  '0.285*\"stephanopoulos\" + 0.232*\"president\" + -0.220*\"people\" + '\n",
            "  '-0.157*\"armenians\" + -0.150*\"went\" + -0.149*\"said\" + -0.145*\"file\" + '\n",
            "  '-0.139*\"armenian\" + -0.133*\"graphics\" + -0.118*\"apartment\"'),\n",
            " (10,\n",
            "  '0.250*\"hockey\" + 0.179*\"league\" + 0.171*\"team\" + 0.165*\"nhl\" + '\n",
            "  '-0.163*\"data\" + 0.149*\"season\" + -0.134*\"image\" + -0.131*\"drive\" + '\n",
            "  '-0.128*\"disk\" + -0.128*\"space\"'),\n",
            " (11,\n",
            "  '-0.256*\"drive\" + -0.245*\"disk\" + 0.185*\"space\" + -0.181*\"hard\" + '\n",
            "  '-0.181*\"drives\" + -0.180*\"scsi\" + 0.151*\"earth\" + 0.140*\"planet\" + '\n",
            "  '-0.137*\"bios\" + -0.137*\"controller\"'),\n",
            " (12,\n",
            "  '-0.232*\"wire\" + -0.201*\"wiring\" + 0.139*\"drive\" + 0.137*\"disk\" + '\n",
            "  '-0.128*\"pub\" + -0.128*\"use\" + -0.127*\"privacy\" + -0.124*\"internet\" + '\n",
            "  '-0.119*\"graphics\" + 0.118*\"data\"'),\n",
            " (13,\n",
            "  '0.211*\"wire\" + -0.188*\"hiv\" + 0.186*\"wiring\" + -0.166*\"health\" + '\n",
            "  '-0.149*\"cancer\" + -0.128*\"medical\" + 0.128*\"space\" + -0.127*\"information\" + '\n",
            "  '0.123*\"earth\" + 0.120*\"graphics\"'),\n",
            " (14,\n",
            "  '-0.319*\"image\" + -0.157*\"wire\" + 0.156*\"privacy\" + 0.149*\"internet\" + '\n",
            "  '-0.147*\"wiring\" + 0.141*\"god\" + -0.139*\"hiv\" + -0.137*\"health\" + '\n",
            "  '-0.131*\"data\" + -0.118*\"jehovah\"'),\n",
            " (15,\n",
            "  '0.282*\"god\" + 0.270*\"image\" + -0.220*\"jehovah\" + -0.168*\"elohim\" + '\n",
            "  '-0.157*\"said\" + -0.133*\"internet\" + -0.121*\"privacy\" + 0.120*\"jesus\" + '\n",
            "  '-0.116*\"jpeg\" + -0.110*\"stephanopoulos\"'),\n",
            " (16,\n",
            "  '-0.258*\"image\" + -0.225*\"privacy\" + -0.205*\"internet\" + 0.180*\"graphics\" + '\n",
            "  '0.171*\"hiv\" + -0.169*\"data\" + -0.159*\"email\" + -0.155*\"anonymous\" + '\n",
            "  '0.146*\"health\" + 0.144*\"edu\"'),\n",
            " (17,\n",
            "  '0.409*\"scx\" + -0.199*\"turkish\" + -0.186*\"war\" + 0.159*\"god\" + -0.157*\"jews\" '\n",
            "  '+ 0.152*\"gcx\" + -0.142*\"russian\" + -0.130*\"armenian\" + -0.129*\"government\" '\n",
            "  '+ 0.123*\"chz\"'),\n",
            " (18,\n",
            "  '0.595*\"scx\" + 0.220*\"gcx\" + 0.178*\"chz\" + 0.139*\"turkish\" + 0.133*\"syx\" + '\n",
            "  '0.129*\"rck\" + 0.129*\"war\" + 0.127*\"rlk\" + 0.122*\"mcx\" + 0.111*\"jews\"'),\n",
            " (19,\n",
            "  '-0.274*\"stephanopoulos\" + 0.218*\"bit\" + -0.172*\"turkish\" + -0.167*\"jews\" + '\n",
            "  '0.161*\"mac\" + 0.143*\"scsi\" + -0.137*\"drive\" + 0.130*\"myers\" + '\n",
            "  '-0.127*\"drives\" + -0.126*\"image\"')]\n"
          ]
        }
      ]
    },
    {
      "cell_type": "markdown",
      "source": [
        "## LDA Topics"
      ],
      "metadata": {
        "id": "dDke6sGib_A1"
      }
    },
    {
      "cell_type": "code",
      "source": [
        "# extract 20 LDA topics, using 1 pass and updating once every 1 chunk (5,000 documents)\n",
        "lda = gensim.models.ldamodel.LdaModel(corpus=mm, id2word=id2word, num_topics=20, update_every=1, chunksize=5000, passes=1)\n",
        "pprint.pprint(lda.show_topics())"
      ],
      "metadata": {
        "id": "H9VqaRrlJMrz",
        "outputId": "266bd650-ecea-4bc9-d1a8-5d00ce639702",
        "colab": {
          "base_uri": "https://localhost:8080/"
        }
      },
      "execution_count": null,
      "outputs": [
        {
          "output_type": "stream",
          "name": "stderr",
          "text": [
            "WARNING:gensim.models.ldamodel:too few updates, training might not converge; consider increasing the number of passes or iterations to improve accuracy\n"
          ]
        },
        {
          "output_type": "stream",
          "name": "stdout",
          "text": [
            "[(8,\n",
            "  '0.024*\"jews\" + 0.007*\"jewish\" + 0.006*\"van\" + 0.004*\"cal\" + 0.004*\"german\" '\n",
            "  '+ 0.004*\"det\" + 0.004*\"chi\" + 0.004*\"bos\" + 0.004*\"nazi\" + 0.003*\"tor\"'),\n",
            " (4,\n",
            "  '0.016*\"president\" + 0.016*\"myers\" + 0.011*\"encryption\" + 0.009*\"april\" + '\n",
            "  '0.008*\"chip\" + 0.008*\"clipper\" + 0.007*\"nuclear\" + 0.006*\"secretary\" + '\n",
            "  '0.005*\"administration\" + 0.005*\"mission\"'),\n",
            " (9,\n",
            "  '0.017*\"orbit\" + 0.015*\"file\" + 0.006*\"gif\" + 0.006*\"officers\" + '\n",
            "  '0.006*\"keyboard\" + 0.005*\"use\" + 0.005*\"available\" + 0.004*\"jpeg\" + '\n",
            "  '0.004*\"good\" + 0.004*\"know\"'),\n",
            " (11,\n",
            "  '0.014*\"people\" + 0.008*\"think\" + 0.007*\"god\" + 0.007*\"know\" + 0.006*\"like\" '\n",
            "  '+ 0.005*\"right\" + 0.005*\"time\" + 0.005*\"believe\" + 0.004*\"government\" + '\n",
            "  '0.004*\"said\"'),\n",
            " (18,\n",
            "  '0.011*\"key\" + 0.008*\"president\" + 0.007*\"congress\" + 0.007*\"keys\" + '\n",
            "  '0.006*\"government\" + 0.005*\"law\" + 0.005*\"federal\" + 0.005*\"ripem\" + '\n",
            "  '0.004*\"public\" + 0.004*\"encryption\"'),\n",
            " (15,\n",
            "  '0.005*\"time\" + 0.005*\"know\" + 0.004*\"people\" + 0.004*\"file\" + 0.004*\"need\" '\n",
            "  '+ 0.004*\"like\" + 0.003*\"way\" + 0.003*\"group\" + 0.003*\"space\" + 0.003*\"new\"'),\n",
            " (19,\n",
            "  '0.008*\"new\" + 0.008*\"space\" + 0.008*\"israel\" + 0.006*\"nasa\" + 0.005*\"data\" '\n",
            "  '+ 0.005*\"list\" + 0.004*\"moon\" + 0.004*\"information\" + 0.004*\"satellite\" + '\n",
            "  '0.004*\"research\"'),\n",
            " (17,\n",
            "  '0.009*\"dos\" + 0.007*\"use\" + 0.006*\"vitamin\" + 0.006*\"windows\" + '\n",
            "  '0.004*\"time\" + 0.004*\"like\" + 0.004*\"data\" + 0.003*\"run\" + 0.003*\"card\" + '\n",
            "  '0.003*\"server\"'),\n",
            " (12,\n",
            "  '0.009*\"firearms\" + 0.008*\"like\" + 0.008*\"use\" + 0.006*\"batf\" + '\n",
            "  '0.004*\"assault\" + 0.004*\"know\" + 0.004*\"problem\" + 0.004*\"bit\" + '\n",
            "  '0.004*\"work\" + 0.003*\"rocket\"'),\n",
            " (0,\n",
            "  '0.016*\"jesus\" + 0.010*\"god\" + 0.009*\"christ\" + 0.008*\"lord\" + '\n",
            "  '0.007*\"father\" + 0.006*\"spirit\" + 0.006*\"son\" + 0.006*\"max\" + '\n",
            "  '0.005*\"church\" + 0.005*\"know\"')]\n"
          ]
        }
      ]
    },
    {
      "cell_type": "markdown",
      "source": [
        "## Coherence Score\n",
        "Resources about different coherence measures:\n",
        "https://datascience.oneoffcoder.com/topic-modeling-gensim.html\n",
        "overview of coherence score implementations:\n",
        "https://github.com/dice-group/Palmetto/wiki/Coherences\n"
      ],
      "metadata": {
        "id": "AmaNGQ_hZyRm"
      }
    },
    {
      "cell_type": "code",
      "source": [
        "# compute coherence for LDA model\n",
        "cm = gensim.models.coherencemodel.CoherenceModel(model=lda, corpus=mm, coherence='u_mass')\n",
        "print(cm.get_coherence())"
      ],
      "metadata": {
        "id": "XMhx6gISJZcr",
        "outputId": "52293f53-d990-4bb4-f93f-1d144d0a1b44",
        "colab": {
          "base_uri": "https://localhost:8080/"
        }
      },
      "execution_count": null,
      "outputs": [
        {
          "output_type": "stream",
          "name": "stdout",
          "text": [
            "-2.818568989230388\n"
          ]
        }
      ]
    },
    {
      "cell_type": "code",
      "source": [
        "list(zip(range(0,lda.num_topics), cm.get_coherence_per_topic()))"
      ],
      "metadata": {
        "id": "NPmOkDrxmh8w",
        "outputId": "de389a5d-560c-4ec0-8086-0bf721e1ad93",
        "colab": {
          "base_uri": "https://localhost:8080/"
        }
      },
      "execution_count": null,
      "outputs": [
        {
          "output_type": "execute_result",
          "data": {
            "text/plain": [
              "[(0, -2.669009128165177),\n",
              " (1, -2.2662126814868078),\n",
              " (2, -1.7071216796604614),\n",
              " (3, -2.5110169135291804),\n",
              " (4, -4.022165491082864),\n",
              " (5, -1.9997254246564846),\n",
              " (6, -2.6560061957845256),\n",
              " (7, -3.7302674538756833),\n",
              " (8, -6.455294311018299),\n",
              " (9, -2.4593399161418765),\n",
              " (10, -4.0183780000732945),\n",
              " (11, -1.7910597232866061),\n",
              " (12, -2.5173883307694283),\n",
              " (13, -2.0109091990848884),\n",
              " (14, -2.3799541261237227),\n",
              " (15, -1.9927138109293876),\n",
              " (16, -3.2291364607343067),\n",
              " (17, -2.6121061058806294),\n",
              " (18, -2.9944324703494636),\n",
              " (19, -2.349142361974658)]"
            ]
          },
          "metadata": {},
          "execution_count": 20
        }
      ]
    },
    {
      "cell_type": "code",
      "source": [
        "lda.show_topic(3)"
      ],
      "metadata": {
        "id": "o5qToERFm2Kn",
        "outputId": "4f5a1596-bbd9-4a61-896b-e40eba17e19f",
        "colab": {
          "base_uri": "https://localhost:8080/"
        }
      },
      "execution_count": null,
      "outputs": [
        {
          "output_type": "execute_result",
          "data": {
            "text/plain": [
              "[('people', 0.00803572),\n",
              " ('time', 0.0072467527),\n",
              " ('know', 0.00611841),\n",
              " ('like', 0.0059714084),\n",
              " ('year', 0.0047999495),\n",
              " ('think', 0.0047546597),\n",
              " ('said', 0.0047238134),\n",
              " ('going', 0.0046848585),\n",
              " ('president', 0.0045393007),\n",
              " ('scripture', 0.004043937)]"
            ]
          },
          "metadata": {},
          "execution_count": 21
        }
      ]
    },
    {
      "cell_type": "code",
      "source": [
        "lda.show_topic(1)"
      ],
      "metadata": {
        "id": "zVxjvDv0nMH5",
        "outputId": "32e1f5ec-312e-4436-d214-e26c304d2e87",
        "colab": {
          "base_uri": "https://localhost:8080/"
        }
      },
      "execution_count": null,
      "outputs": [
        {
          "output_type": "execute_result",
          "data": {
            "text/plain": [
              "[('drive', 0.008777292),\n",
              " ('scsi', 0.008715821),\n",
              " ('like', 0.0066580456),\n",
              " ('use', 0.0058125956),\n",
              " ('hard', 0.0047446),\n",
              " ('need', 0.0046949787),\n",
              " ('thanks', 0.004437542),\n",
              " ('know', 0.0043188017),\n",
              " ('mac', 0.0042235204),\n",
              " ('drives', 0.0038375352)]"
            ]
          },
          "metadata": {},
          "execution_count": 22
        }
      ]
    },
    {
      "cell_type": "markdown",
      "source": [
        "# Assignment\n",
        "\n",
        "The task is to find optimal preprocessing and optimal number of topics.\n",
        "\n",
        "1. Check the preprocessing, if you change something, describe it in `YOUR_FILE`.\n",
        "\n",
        "1. Experiment with different number of topics for the LDA. You can try to find optimal number using the coherence score (try different numbers and check the coherence). HINT: For 20 newsgroups, 20 topics are not enough.\n",
        "\n",
        "1. Check LDA with a good number of topics with the actual topics of the texts (in which group the text was published).\n",
        "\n",
        "1. Describe how the topics fit into the original categories. For example, there can be topics \"virus - bacteria\" and \"allergy immune\" in the `sci.med` group.\n",
        "\n",
        "1. Try to assign manually the topics to particular newsgroups. Are all words good to describe the topic? E.g., \"allergy immune\" are good words for the `sci.med` group, \"image\" does not make that much sense in the `sci.med` group.\n",
        "\n",
        "1. OPTIONAL: Use a method to assign a topic name. You can use Wikipedia search or ChatGPT (or something else) to find a common term for top K topic words.\n",
        "\n",
        "1. Describe your observations in `YOUR_FILE`.\n"
      ],
      "metadata": {
        "id": "z_uIYzsFcCHF"
      }
    }
  ]
}