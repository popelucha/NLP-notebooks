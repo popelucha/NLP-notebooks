{
  "cells": [
    {
      "cell_type": "markdown",
      "metadata": {
        "id": "view-in-github",
        "colab_type": "text"
      },
      "source": [
        "<a href=\"https://colab.research.google.com/github/popelucha/NLP-notebooks/blob/main/Film_sentiment_visualization.ipynb\" target=\"_parent\"><img src=\"https://colab.research.google.com/assets/colab-badge.svg\" alt=\"Open In Colab\"/></a>"
      ]
    },
    {
      "cell_type": "markdown",
      "metadata": {
        "id": "8AXVrWH-sy3W"
      },
      "source": [
        "Inspired by https://mubaris.com/posts/movie-analysis/\n",
        "\n",
        "For Czech Sentiment Analysis:\n",
        "\n",
        "https://nlp.fi.muni.cz/projekty/sentiment_analysis/index.py"
      ]
    },
    {
      "cell_type": "markdown",
      "source": [
        "# Nová sekce"
      ],
      "metadata": {
        "id": "sbP7bLlKVsTe"
      }
    },
    {
      "cell_type": "code",
      "execution_count": null,
      "metadata": {
        "id": "dvbYrw_UtHFM"
      },
      "outputs": [],
      "source": [
        "#!pip install pysrt"
      ]
    },
    {
      "cell_type": "code",
      "execution_count": null,
      "metadata": {
        "id": "KVd7lenOtkf4"
      },
      "outputs": [],
      "source": [
        "import requests\n",
        "from io import StringIO"
      ]
    },
    {
      "cell_type": "code",
      "execution_count": null,
      "metadata": {
        "colab": {
          "base_uri": "https://localhost:8080/",
          "height": 87
        },
        "id": "x6kC2OnBsyQc",
        "outputId": "eff8768b-4d22-456e-cd83-7ae717607959"
      },
      "outputs": [
        {
          "output_type": "execute_result",
          "data": {
            "text/plain": [
              "\"\\nCommented out because it was for the srt files.\\n\\nimport pysrt\\n\\n# Loading the Subtitle\\nsubs = pysrt.open('3265462_Drama_2013_Han Gong-ju.txt')\\n\\n\\nwhile True:\\n  i = 0\\n  chunk = ''\\n  for sub in subs:\\n    if sub.text_without_tags:\\n      chunk += sub.text_without_tags+' '\\n      i += 1\\n      if i==chunk_size:\\n        chunks.append(chunk.strip())\\n        i = 0\\n  break\\n\\nlen(chunks)\\n\""
            ],
            "application/vnd.google.colaboratory.intrinsic+json": {
              "type": "string"
            }
          },
          "metadata": {},
          "execution_count": 79
        }
      ],
      "source": [
        "# chunk subtitles per 30 dialog pieces (sentences)\n",
        "chunk_size = 30\n",
        "chunks = []\n",
        "\n",
        "\"\"\"\n",
        "Commented out because it was for the srt files.\n",
        "\n",
        "import pysrt\n",
        "\n",
        "# Loading the Subtitle\n",
        "subs = pysrt.open('3265462_Drama_2013_Han Gong-ju.txt')\n",
        "\n",
        "\n",
        "while True:\n",
        "  i = 0\n",
        "  chunk = ''\n",
        "  for sub in subs:\n",
        "    if sub.text_without_tags:\n",
        "      chunk += sub.text_without_tags+' '\n",
        "      i += 1\n",
        "      if i==chunk_size:\n",
        "        chunks.append(chunk.strip())\n",
        "        i = 0\n",
        "  break\n",
        "\n",
        "len(chunks)\n",
        "\"\"\""
      ]
    },
    {
      "cell_type": "code",
      "source": [
        "chunk = ''\n",
        "i = 0\n",
        "with open('8396188_Action,Comedy,History_2018_Tanks for Stalin.txt') as f:\n",
        "  for line in f:\n",
        "    if line.strip().startswith('<s>'):\n",
        "        line = line.replace('<s>', ' ').replace('</s>', ' ')\n",
        "        line = line.strip()\n",
        "        if line:\n",
        "          chunk += line + ' '\n",
        "          i += 1\n",
        "          if i == chunk_size:\n",
        "            chunks.append(chunk.strip())\n",
        "            i = 0\n",
        "            chunk = ''\n",
        "  if chunk:\n",
        "    chunks.append(chunk.strip())\n",
        "len(chunks)"
      ],
      "metadata": {
        "colab": {
          "base_uri": "https://localhost:8080/"
        },
        "id": "AsmFLYdIctjw",
        "outputId": "656beec0-23f3-4a91-a915-858aa88180e9"
      },
      "execution_count": null,
      "outputs": [
        {
          "output_type": "execute_result",
          "data": {
            "text/plain": [
              "27"
            ]
          },
          "metadata": {},
          "execution_count": 80
        }
      ]
    },
    {
      "cell_type": "code",
      "execution_count": null,
      "metadata": {
        "id": "brAJVLA7tgmU"
      },
      "outputs": [],
      "source": [
        "def get_sentiment(sentences):\n",
        "  file = StringIO(sentences)\n",
        "  r = requests.post('https://nlp.fi.muni.cz/projekty/languageservices/service.py',\n",
        "                  files={'call':'sa',\n",
        "                        'lang':'cs',\n",
        "                        'output':'json',\n",
        "                        'text': file})\n",
        "  return r.json()"
      ]
    },
    {
      "cell_type": "code",
      "source": [
        "chunks[0]"
      ],
      "metadata": {
        "colab": {
          "base_uri": "https://localhost:8080/",
          "height": 157
        },
        "id": "mf4ohJMKfUpF",
        "outputId": "c12c05a9-f202-479c-ac05-3493246281f9"
      },
      "execution_count": null,
      "outputs": [
        {
          "output_type": "execute_result",
          "data": {
            "text/plain": [
              "'Břeh řeky Chalchyn Gol Rok 1939 Tady je 20mm protitanková zbraň. Viděl jsi takovou? Nic jí neodolá. A ještě mají 37mm. Ta je průbojná, zanechá díru jako hlava. Nedaleko jsem jednu zahlédl. Mám to chápat, že tím ospravedlňuješ porážku? Nejsem tady, abych se vymlouval, soudruhu veliteli. Dovedu přiznat svou chybu. Skutečně? Přesně tak. Poslal jsem vojáky do boje v něčem, co by se hodilo jen na přehlídku. A bez rozkazu. Obávám se, že s takovým přístupem tvoje vojenská kariéra brzy skončí. Nevím, jaký osud čeká mě, ale vím, že Rudá armáda má před sebou ještě nejednu bitvu. Zřejmě ano. To je jisté. A vítězství nám zajistí jen tanky. Pancéřované tanky. Takové, které odolají i peklu. Jeď zpátky! Zpátky, slyšíš! Zruš nakládku, Michaile Iljiči. Co jsi čekal? Bez zkoušek v terénu tanky na přehlídku nepojedou. Pokud je nevyzkoušíme, tak je nenaloží. K čertu s tím! Vypni motor! Nedovolí nám je naložit na vagony. Ale zákaz neplatí pro jízdu po vlastní ose!'"
            ],
            "application/vnd.google.colaboratory.intrinsic+json": {
              "type": "string"
            }
          },
          "metadata": {},
          "execution_count": 93
        }
      ]
    },
    {
      "cell_type": "code",
      "execution_count": null,
      "metadata": {
        "colab": {
          "base_uri": "https://localhost:8080/"
        },
        "id": "lfeixDZhwaj0",
        "outputId": "d8d6df46-23ca-4280-b33d-b0d780b3feaa"
      },
      "outputs": [
        {
          "output_type": "stream",
          "name": "stdout",
          "text": [
            "200\n",
            "b'{\\n    \"result\": [\\n        {\\n            \"text\": \"B\\xc5\\x99eh \\xc5\\x99eky Chalchyn Gol Rok 1939 Tady je 20mm prot'\n"
          ]
        }
      ],
      "source": [
        "s = get_sentiment(chunks[0])"
      ]
    },
    {
      "cell_type": "code",
      "execution_count": null,
      "metadata": {
        "colab": {
          "base_uri": "https://localhost:8080/"
        },
        "id": "kYjrTsNswdL8",
        "outputId": "63eabdd0-bd7d-4448-d8e1-33da30222169"
      },
      "outputs": [
        {
          "output_type": "execute_result",
          "data": {
            "text/plain": [
              "1"
            ]
          },
          "metadata": {},
          "execution_count": 95
        }
      ],
      "source": [
        "len(s.get('result'))"
      ]
    },
    {
      "cell_type": "code",
      "execution_count": null,
      "metadata": {
        "colab": {
          "base_uri": "https://localhost:8080/"
        },
        "id": "z_qLNzaLx1Jk",
        "outputId": "0cd72fc7-6096-44ef-d28f-73dcd4f78e3e"
      },
      "outputs": [
        {
          "output_type": "execute_result",
          "data": {
            "text/plain": [
              "{'text': 'Břeh řeky Chalchyn Gol Rok 1939 Tady je 20mm protitanková zbraň. Viděl jsi takovou? Nic jí neodolá. A ještě mají 37mm. Ta je průbojná, zanechá díru jako hlava. Nedaleko jsem jednu zahlédl. Mám to chápat, že tím ospravedlňuješ porážku? Nejsem tady, abych se vymlouval, soudruhu veliteli. Dovedu přiznat svou chybu. Skutečně? Přesně tak. Poslal jsem vojáky do boje v něčem, co by se hodilo jen na přehlídku. A bez rozkazu. Obávám se, že s takovým přístupem tvoje vojenská kariéra brzy skončí. Nevím, jaký osud čeká mě, ale vím, že Rudá armáda má před sebou ještě nejednu bitvu. Zřejmě ano. To je jisté. A vítězství nám zajistí jen tanky. Pancéřované tanky. Takové, které odolají i peklu. Jeď zpátky! Zpátky, slyšíš! Zruš nakládku, Michaile Iljiči. Co jsi čekal? Bez zkoušek v terénu tanky na přehlídku nepojedou. Pokud je nevyzkoušíme, tak je nenaloží. K čertu s tím! Vypni motor! Nedovolí nám je naložit na vagony. Ale zákaz neplatí pro jízdu po vlastní ose!',\n",
              " 'sentiment_class': 0.1452454775571823,\n",
              " 'sentiment': 'Negative'}"
            ]
          },
          "metadata": {},
          "execution_count": 96
        }
      ],
      "source": [
        "s.get('result')[0]"
      ]
    },
    {
      "cell_type": "code",
      "execution_count": null,
      "metadata": {
        "id": "oNQ_yWpOtedd",
        "colab": {
          "base_uri": "https://localhost:8080/",
          "height": 492
        },
        "outputId": "a0115368-4087-4e33-a36f-784007cb280e"
      },
      "outputs": [
        {
          "output_type": "display_data",
          "data": {
            "text/plain": [
              "<Figure size 640x480 with 1 Axes>"
            ],
            "image/png": "[encoded data removed]"
          },
          "metadata": {}
        }
      ],
      "source": [
        "import matplotlib.pyplot as plt\n",
        "\n",
        "\n",
        "x = []\n",
        "y = []\n",
        "for i in range(len(chunks)):\n",
        "  x.append(i)\n",
        "  sent = get_sentiment(chunks[i])\n",
        "  score = sent.get('result')[0].get('sentiment_class')\n",
        "  y.append(score)\n",
        "\n",
        "fig, ax = plt.subplots()\n",
        "plt.plot(x, y)\n",
        "plt.title(\"The Country Doctor\", fontsize=32)\n",
        "plt.ylim((0, 5))\n",
        "plt.ylabel(\"Sentiment Polarity\")\n",
        "plt.xlabel(\"Running Time\")\n",
        "average = sum(y)/len(y)\n",
        "plt.text(.5, 1.03, \"Average Sentiment - \" + str(round(average, 4)), color=\"green\")\n",
        "ttl = ax.title\n",
        "ttl.set_position([.5, 1.05])"
      ]
    }
  ],
  "metadata": {
    "colab": {
      "provenance": [],
      "include_colab_link": true
    },
    "kernelspec": {
      "display_name": "Python 3",
      "name": "python3"
    },
    "language_info": {
      "name": "python"
    }
  },
  "nbformat": 4,
  "nbformat_minor": 0
}